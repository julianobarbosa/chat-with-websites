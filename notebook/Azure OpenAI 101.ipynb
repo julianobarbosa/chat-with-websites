{
 "cells": [
  {
   "cell_type": "markdown",
   "id": "0a36f856-c78e-4f4d-b17d-002041185940",
   "metadata": {},
   "source": [
    "[REFERENCE](https://www.youtube.com/watch?v=0wqjKb60f2Q)"
   ]
  },
  {
   "cell_type": "code",
   "execution_count": 5,
   "id": "0551a501-a8fb-42d0-9120-7e5282f6bcee",
   "metadata": {},
   "outputs": [],
   "source": [
    "import os\n",
    "import openai\n",
    "import json\n",
    "import shutil\n",
    "from openai import cli\n",
    "from bs4 import BeautifulSoup\n",
    "import requests"
   ]
  },
  {
   "cell_type": "code",
   "execution_count": 3,
   "id": "c48ac752-141a-4bc2-982b-709dd7aa9bfd",
   "metadata": {},
   "outputs": [],
   "source": [
    "openai.api_type = \"azure\"\n",
    "openai.api_base = os.getenv(\"OPENAI_API_BASE\")\n",
    "openai.api_version = os.getenv(\"OPENAI_API_AZURE_VERSION\")\n",
    "openai.api_key = os.getenv(\"OPENAI_API_KEY\")"
   ]
  },
  {
   "cell_type": "code",
   "execution_count": 12,
   "id": "e0737db8-d163-4d39-92df-4bf15f014c46",
   "metadata": {},
   "outputs": [],
   "source": [
    "def get_summary(title):\n",
    "    response = requests.get(f\"https://en.wikipedia.org/wiki/{title}\")\n",
    "    soup = BeautifulSoup(response.text, 'html.parser')\n",
    "    if soup.find('div',{'class': 'noarticletext'}):\n",
    "        return Nome\n",
    "    else:\n",
    "        return soup.select_one('div.mw-parser-output p').text.split('.')[0] + '.'"
   ]
  },
  {
   "cell_type": "code",
   "execution_count": null,
   "id": "858cb02d-8c39-4e86-85eb-a643738440c1",
   "metadata": {},
   "outputs": [],
   "source": []
  },
  {
   "cell_type": "code",
   "execution_count": null,
   "id": "24bd3324-7760-4f51-adfc-af23bf928eff",
   "metadata": {},
   "outputs": [],
   "source": []
  },
  {
   "cell_type": "code",
   "execution_count": 14,
   "id": "6ab337f9-2e7e-422c-b093-70b871758576",
   "metadata": {},
   "outputs": [],
   "source": [
    "sample_data = []\n",
    "for i in range(100):\n",
    "    while True:\n",
    "        title = requests.get(\"https://en.wikipedia.org/w/api.php?action=query&format=json&list=random&rnlimit=1&rnnamespace=0\").json()[\"query\"][\"random\"][0][\"title\"]\n",
    "        summary = get_summary(title)\n",
    "        if summary:\n",
    "            break\n",
    "    sample_data.append({\"prompt\": title, \"completion\": \" + summary \"})"
   ]
  },
  {
   "cell_type": "code",
   "execution_count": null,
   "id": "0d4e66e5-9182-444b-8ed6-871dad449da1",
   "metadata": {},
   "outputs": [],
   "source": []
  },
  {
   "cell_type": "code",
   "execution_count": null,
   "id": "89e73a9d-97cf-4f47-9821-d3fe49307f3e",
   "metadata": {},
   "outputs": [],
   "source": [
    "sample_data"
   ]
  },
  {
   "cell_type": "code",
   "execution_count": 7,
   "id": "621faccf-1f9c-44b7-bd91-a1d7dee1ce32",
   "metadata": {},
   "outputs": [
    {
     "data": {
      "text/plain": [
       "'César Julien Jean Legallois'"
      ]
     },
     "execution_count": 7,
     "metadata": {},
     "output_type": "execute_result"
    }
   ],
   "source": [
    "requests.get(\"https://en.wikipedia.org/w/api.php?action=query&format=json&list=random&rnlimit=1&rnnamespace=0\").json()[\"query\"][\"random\"][0][\"title\"]"
   ]
  }
 ],
 "metadata": {
  "kernelspec": {
   "display_name": "Python 3 (ipykernel)",
   "language": "python",
   "name": "python3"
  },
  "language_info": {
   "codemirror_mode": {
    "name": "ipython",
    "version": 3
   },
   "file_extension": ".py",
   "mimetype": "text/x-python",
   "name": "python",
   "nbconvert_exporter": "python",
   "pygments_lexer": "ipython3",
   "version": "3.11.7"
  }
 },
 "nbformat": 4,
 "nbformat_minor": 5
}
