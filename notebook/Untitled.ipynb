{
 "cells": [
  {
   "cell_type": "code",
   "execution_count": 1,
   "id": "88baeae2-0f86-452e-bbf0-8fc5007018a3",
   "metadata": {},
   "outputs": [],
   "source": [
    "# pip install streamlit langchain lanchain-openai beautifulsoup4 python-dotenv chromadb\n",
    "\n",
    "import streamlit as st\n",
    "from langchain_core.messages import AIMessage, HumanMessage\n",
    "from langchain_community.document_loaders import WebBaseLoader\n",
    "from langchain.text_splitter import RecursiveCharacterTextSplitter\n",
    "from langchain_community.vectorstores import Chroma\n",
    "from langchain_openai import OpenAIEmbeddings, ChatOpenAI\n",
    "from dotenv import load_dotenv\n",
    "from langchain_core.prompts import ChatPromptTemplate, MessagesPlaceholder\n",
    "from langchain.chains import create_history_aware_retriever, create_retrieval_chain\n",
    "from langchain.chains.combine_documents import create_stuff_documents_chain"
   ]
  },
  {
   "cell_type": "code",
   "execution_count": 2,
   "id": "1527e589-374a-4cf8-a749-6e4ea95b31a0",
   "metadata": {},
   "outputs": [
    {
     "data": {
      "text/plain": [
       "False"
      ]
     },
     "execution_count": 2,
     "metadata": {},
     "output_type": "execute_result"
    }
   ],
   "source": [
    "load_dotenv()"
   ]
  },
  {
   "cell_type": "code",
   "execution_count": 3,
   "id": "a69aa12e-5a6e-41db-815c-32874bea6dae",
   "metadata": {},
   "outputs": [],
   "source": [
    "def get_vectorstore_from_url(url):\n",
    "    # get the text in document form\n",
    "    loader = WebBaseLoader(url)\n",
    "    document = loader.load()\n",
    "    \n",
    "    # split the document into chunks\n",
    "    text_splitter = RecursiveCharacterTextSplitter()\n",
    "    document_chunks = text_splitter.split_documents(document)\n",
    "    \n",
    "    # create a vectorstore from the chunks\n",
    "    vector_store = Chroma.from_documents(document_chunks, OpenAIEmbeddings())\n",
    "\n",
    "    return vector_store"
   ]
  },
  {
   "cell_type": "code",
   "execution_count": 4,
   "id": "f6167a94-c05a-41a8-b2a1-a8a0c941c51a",
   "metadata": {},
   "outputs": [],
   "source": [
    "def get_context_retriever_chain(vector_store):\n",
    "    llm = ChatOpenAI()\n",
    "    \n",
    "    retriever = vector_store.as_retriever()\n",
    "    \n",
    "    prompt = ChatPromptTemplate.from_messages([\n",
    "      MessagesPlaceholder(variable_name=\"chat_history\"),\n",
    "      (\"user\", \"{input}\"),\n",
    "      (\"user\", \"Given the above conversation, generate a search query to look up in order to get information relevant to the conversation\")\n",
    "    ])\n",
    "    \n",
    "    retriever_chain = create_history_aware_retriever(llm, retriever, prompt)\n",
    "    \n",
    "    return retriever_chain\n",
    " "
   ]
  },
  {
   "cell_type": "code",
   "execution_count": 5,
   "id": "9ac00462-283b-48e6-9d31-3b9d5ef67def",
   "metadata": {},
   "outputs": [],
   "source": [
    "def get_conversational_rag_chain(retriever_chain): \n",
    "\n",
    "    llm = ChatOpenAI()\n",
    "\n",
    "    prompt = ChatPromptTemplate.from_messages([\n",
    "      (\"system\", \"Answer the user's questions based on the below context:\\n\\n{context}\"),\n",
    "      MessagesPlaceholder(variable_name=\"chat_history\"),\n",
    "      (\"user\", \"{input}\"),\n",
    "    ])\n",
    "\n",
    "    stuff_documents_chain = create_stuff_documents_chain(llm,prompt)\n",
    "\n",
    "    return create_retrieval_chain(retriever_chain, stuff_documents_chain)"
   ]
  },
  {
   "cell_type": "code",
   "execution_count": 6,
   "id": "161dd54c-354e-4e69-ae64-569cafb45fa8",
   "metadata": {},
   "outputs": [],
   "source": [
    "def get_response(user_input):\n",
    "    retriever_chain = get_context_retriever_chain(st.session_state.vector_store)\n",
    "    conversation_rag_chain = get_conversational_rag_chain(retriever_chain)\n",
    "\n",
    "    response = conversation_rag_chain.invoke({\n",
    "        \"chat_history\": st.session_state.chat_history,\n",
    "        \"input\": user_query\n",
    "    })\n",
    "\n",
    "    return response['answer']"
   ]
  },
  {
   "cell_type": "code",
   "execution_count": null,
   "id": "61b4723e-ee61-46b9-8c44-ac88056e820f",
   "metadata": {},
   "outputs": [],
   "source": []
  }
 ],
 "metadata": {
  "kernelspec": {
   "display_name": "Python 3 (ipykernel)",
   "language": "python",
   "name": "python3"
  },
  "language_info": {
   "codemirror_mode": {
    "name": "ipython",
    "version": 3
   },
   "file_extension": ".py",
   "mimetype": "text/x-python",
   "name": "python",
   "nbconvert_exporter": "python",
   "pygments_lexer": "ipython3",
   "version": "3.11.7"
  }
 },
 "nbformat": 4,
 "nbformat_minor": 5
}
